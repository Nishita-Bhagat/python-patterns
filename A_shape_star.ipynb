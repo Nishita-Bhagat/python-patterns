{
  "nbformat": 4,
  "nbformat_minor": 0,
  "metadata": {
    "colab": {
      "name": "A shape star.ipynb",
      "provenance": [],
      "authorship_tag": "ABX9TyMtP8UtKYyML/2e89KWQYCJ",
      "include_colab_link": true
    },
    "kernelspec": {
      "name": "python3",
      "display_name": "Python 3"
    },
    "language_info": {
      "name": "python"
    }
  },
  "cells": [
    {
      "cell_type": "markdown",
      "metadata": {
        "id": "view-in-github",
        "colab_type": "text"
      },
      "source": [
        "<a href=\"https://colab.research.google.com/github/Nishita-Bhagat/python-patterns/blob/main/A_shape_star.ipynb\" target=\"_parent\"><img src=\"https://colab.research.google.com/assets/colab-badge.svg\" alt=\"Open In Colab\"/></a>"
      ]
    },
    {
      "cell_type": "code",
      "metadata": {
        "colab": {
          "base_uri": "https://localhost:8080/"
        },
        "id": "5_ztNdEangr5",
        "outputId": "355a1796-8875-4eb0-e9a1-3b3cb68da636"
      },
      "source": [
        "for row in range(7):\n",
        "  for col in range(5):\n",
        "    if (col==0 or col==4) or ((row==0 or row==3) and (col>0 and col<4)):\n",
        "      print(\"*\", end = \"\")\n",
        "    else :\n",
        "      print(end = \" \")\n",
        "  print()\n",
        "\n"
      ],
      "execution_count": 7,
      "outputs": [
        {
          "output_type": "stream",
          "text": [
            "*****\n",
            "*   *\n",
            "*   *\n",
            "*****\n",
            "*   *\n",
            "*   *\n",
            "*   *\n"
          ],
          "name": "stdout"
        }
      ]
    },
    {
      "cell_type": "code",
      "metadata": {
        "id": "ZObEboTbpApF"
      },
      "source": [
        ""
      ],
      "execution_count": null,
      "outputs": []
    }
  ]
}