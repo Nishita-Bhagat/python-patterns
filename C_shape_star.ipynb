{
  "nbformat": 4,
  "nbformat_minor": 0,
  "metadata": {
    "colab": {
      "name": "C shape star.ipynb",
      "provenance": [],
      "authorship_tag": "ABX9TyNcOqL2loUjlgG/FiQNIx7b",
      "include_colab_link": true
    },
    "kernelspec": {
      "name": "python3",
      "display_name": "Python 3"
    },
    "language_info": {
      "name": "python"
    }
  },
  "cells": [
    {
      "cell_type": "markdown",
      "metadata": {
        "id": "view-in-github",
        "colab_type": "text"
      },
      "source": [
        "<a href=\"https://colab.research.google.com/github/Nishita-Bhagat/python-patterns/blob/main/C_shape_star.ipynb\" target=\"_parent\"><img src=\"https://colab.research.google.com/assets/colab-badge.svg\" alt=\"Open In Colab\"/></a>"
      ]
    },
    {
      "cell_type": "code",
      "metadata": {
        "colab": {
          "base_uri": "https://localhost:8080/"
        },
        "id": "fOpFAxE0s2IH",
        "outputId": "832f63a0-a630-4bad-d4ee-700b6f679b17"
      },
      "source": [
        "for row in range(9):\n",
        "  for col in range(7):\n",
        "    if (col==0 and (row!=0 and row!=8)) or ((row==0 or row==8) and (col>0)):\n",
        "      print(\"*\", end = \"\")\n",
        "    else : \n",
        "      print(end = \" \")\n",
        "  print()"
      ],
      "execution_count": 6,
      "outputs": [
        {
          "output_type": "stream",
          "text": [
            " ******\n",
            "*      \n",
            "*      \n",
            "*      \n",
            "*      \n",
            "*      \n",
            "*      \n",
            "*      \n",
            " ******\n"
          ],
          "name": "stdout"
        }
      ]
    },
    {
      "cell_type": "code",
      "metadata": {
        "id": "1mbAQ2u2ttlx"
      },
      "source": [
        ""
      ],
      "execution_count": null,
      "outputs": []
    }
  ]
}