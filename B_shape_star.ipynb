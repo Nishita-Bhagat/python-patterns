{
  "nbformat": 4,
  "nbformat_minor": 0,
  "metadata": {
    "colab": {
      "name": "B shape star.ipynb",
      "provenance": [],
      "authorship_tag": "ABX9TyPluOHaNcBTNWj2WKC2NRue",
      "include_colab_link": true
    },
    "kernelspec": {
      "name": "python3",
      "display_name": "Python 3"
    },
    "language_info": {
      "name": "python"
    }
  },
  "cells": [
    {
      "cell_type": "markdown",
      "metadata": {
        "id": "view-in-github",
        "colab_type": "text"
      },
      "source": [
        "<a href=\"https://colab.research.google.com/github/Nishita-Bhagat/python-patterns/blob/main/B_shape_star.ipynb\" target=\"_parent\"><img src=\"https://colab.research.google.com/assets/colab-badge.svg\" alt=\"Open In Colab\"/></a>"
      ]
    },
    {
      "cell_type": "code",
      "metadata": {
        "colab": {
          "base_uri": "https://localhost:8080/"
        },
        "id": "0xQYJDM5q-ZN",
        "outputId": "c8687c4d-c5b9-4cac-9be7-13950707482f"
      },
      "source": [
        "for row in range(7):\n",
        "  for col in range(5):\n",
        "    if (col==0 or col==4) or ((row==0 or row==3 or row==6) and (col>0 and col<4)):\n",
        "      print(\"*\", end =\"\")\n",
        "    else :\n",
        "      print(end = \" \")\n",
        "  print()\n",
        "\n"
      ],
      "execution_count": 3,
      "outputs": [
        {
          "output_type": "stream",
          "text": [
            "*****\n",
            "*   *\n",
            "*   *\n",
            "*****\n",
            "*   *\n",
            "*   *\n",
            "*****\n"
          ],
          "name": "stdout"
        }
      ]
    },
    {
      "cell_type": "code",
      "metadata": {
        "id": "y3Rk-bi9r_LL"
      },
      "source": [
        ""
      ],
      "execution_count": null,
      "outputs": []
    }
  ]
}