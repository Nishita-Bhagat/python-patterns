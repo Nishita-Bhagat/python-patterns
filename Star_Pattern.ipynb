{
  "nbformat": 4,
  "nbformat_minor": 0,
  "metadata": {
    "colab": {
      "name": "Star Pattern.ipynb",
      "provenance": [],
      "authorship_tag": "ABX9TyPYZiBRIi9ANSAuRMMyhVFS",
      "include_colab_link": true
    },
    "kernelspec": {
      "name": "python3",
      "display_name": "Python 3"
    },
    "language_info": {
      "name": "python"
    }
  },
  "cells": [
    {
      "cell_type": "markdown",
      "metadata": {
        "id": "view-in-github",
        "colab_type": "text"
      },
      "source": [
        "<a href=\"https://colab.research.google.com/github/Nishita-Bhagat/python-patterns/blob/main/Star_Pattern.ipynb\" target=\"_parent\"><img src=\"https://colab.research.google.com/assets/colab-badge.svg\" alt=\"Open In Colab\"/></a>"
      ]
    },
    {
      "cell_type": "code",
      "metadata": {
        "colab": {
          "base_uri": "https://localhost:8080/"
        },
        "id": "Mu7beuVGCdDa",
        "outputId": "708eff70-75c3-4cdd-9923-d182716dbbcc"
      },
      "source": [
        "## STAR PATTERN\n",
        "def p(n):\n",
        "  for i in range(n):\n",
        "    print((n-i-1)*\" \", end=\"\")\n",
        "    print((2*i+1)*\"*\")\n",
        "  for i in range(n-1,-1,-1):\n",
        "    print((n-1-i)*\" \", end=\"\")\n",
        "    print((2*i+1)*\"*\")\n",
        "  \n",
        "p(5)"
      ],
      "execution_count": null,
      "outputs": [
        {
          "output_type": "stream",
          "text": [
            "    *\n",
            "   ***\n",
            "  *****\n",
            " *******\n",
            "*********\n",
            "*********\n",
            " *******\n",
            "  *****\n",
            "   ***\n",
            "    *\n"
          ],
          "name": "stdout"
        }
      ]
    }
  ]
}